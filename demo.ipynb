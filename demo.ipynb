{
 "cells": [
  {
   "cell_type": "code",
   "execution_count": 1,
   "id": "4721920e-a594-4e7a-86df-4e456edd44ad",
   "metadata": {
    "tags": []
   },
   "outputs": [],
   "source": [
    "from langchain.vectorstores.faiss import FAISS\n",
    "import pypdf\n",
    "import pathlib\n",
    "import re\n",
    "from langchain.docstore.document import Document\n",
    "from langchain.text_splitter import RecursiveCharacterTextSplitter\n",
    "\n",
    "from langchain.chat_models import ChatOpenAI\n",
    "from langchain import PromptTemplate, LLMChain\n",
    "from langchain.prompts.chat import (\n",
    "    ChatPromptTemplate,\n",
    "    SystemMessagePromptTemplate,\n",
    "    AIMessagePromptTemplate,\n",
    "    HumanMessagePromptTemplate,\n",
    ")\n",
    "from langchain.schema import (\n",
    "    AIMessage,\n",
    "    HumanMessage,\n",
    "    SystemMessage\n",
    ")\n",
    "\n",
    "from dotenv import load_dotenv\n",
    "import os\n",
    "\n",
    "load_dotenv()\n",
    "\n",
    "\n",
    "\n",
    "from langchain import OpenAI\n",
    "from langchain.chains.summarize import load_summarize_chain\n",
    "from knowledge_gpt.embeddings import OpenAIEmbeddings\n",
    "from datetime import datetime\n",
    "from app import db, Article, app\n",
    "from sqlalchemy.exc import IntegrityError\n",
    "\n",
    "\n",
    "def parse_pdf(file):\n",
    "    pdf = pypdf.PdfReader(file)\n",
    "    output = []\n",
    "    for page in pdf.pages:\n",
    "        text = page.extract_text()\n",
    "        # Merge hyphenated words\n",
    "        text = re.sub(r\"(\\w+)-\\n(\\w+)\", r\"\\1\\2\", text)\n",
    "        # Fix newlines in the middle of sentences\n",
    "        text = re.sub(r\"(?<!\\n\\s)\\n(?!\\s\\n)\", \" \", text.strip())\n",
    "        # Remove multiple newlines\n",
    "        text = re.sub(r\"\\n\\s*\\n\", \"\\n\\n\", text)\n",
    "\n",
    "        output.append(text)\n",
    "\n",
    "    return output\n",
    "\n",
    "def text_to_docs(text, fname):\n",
    "    \"\"\"Converts a string or list of strings to a list of Documents\n",
    "    with metadata.\"\"\"\n",
    "    if isinstance(text, str):\n",
    "        # Take a single string as one page\n",
    "        text = [text]\n",
    "    page_docs = [Document(page_content=page) for page in text]\n",
    "\n",
    "    # Add page numbers as metadata\n",
    "    for i, doc in enumerate(page_docs):\n",
    "        doc.metadata[\"page\"] = i + 1\n",
    "\n",
    "    # Split pages into chunks\n",
    "    doc_chunks = []\n",
    "\n",
    "    for doc in page_docs:\n",
    "        text_splitter = RecursiveCharacterTextSplitter(\n",
    "            chunk_size=800,\n",
    "            separators=[\"\\n\\n\", \"\\n\", \".\", \"!\", \"?\", \",\"],\n",
    "            chunk_overlap=0,\n",
    "        )\n",
    "        chunks = text_splitter.split_text(doc.page_content)\n",
    "        for i, chunk in enumerate(chunks):\n",
    "            doc = Document(\n",
    "                page_content=chunk, metadata={\"page\": doc.metadata[\"page\"], \"chunk\": i}\n",
    "            )\n",
    "            # Add sources a metadata\n",
    "            doc.metadata[\"source\"] = f\"{fname} {doc.metadata['page']}-{doc.metadata['chunk']}\"\n",
    "            doc.metadata[\"file\"] = fname\n",
    "            doc_chunks.append(doc)\n",
    "    return doc_chunks\n",
    "\n",
    "\n",
    "def process(path):\n",
    "    with path.open(\"rb\") as f:\n",
    "        txts = parse_pdf(f)\n",
    "        return text_to_docs(txts, path.stem)\n",
    "                   \n",
    "\n",
    "def summarize_article(doc):\n",
    "    \"\"\" doc is the output from parse\n",
    "    \"\"\"\n",
    "    llm = OpenAI(temperature=0, openai_api_key=os.getenv(\"OPENAI_API_KEY\"))\n",
    "    chain = load_summarize_chain(llm, chain_type=\"map_reduce\")\n",
    "    return chain.run(doc)\n",
    "\n",
    "\n",
    "\n",
    "\n",
    "def create_index(paths, index_file):\n",
    "    docs = [doc for doccol in [process(out) for out in paths] for doc in doccol]\n",
    "\n",
    "    embeddings = OpenAIEmbeddings(\n",
    "        openai_api_key=OPENAI_KEY,\n",
    "    )  # type: ignore\n",
    "\n",
    "    index = FAISS.from_documents(docs, embeddings)\n",
    "\n",
    "    index.save_local(index_file)\n",
    "\n",
    "    \n",
    "\n",
    "def add_article_to_sqlite(path, summary):\n",
    "    \"\"\" add to sqlite db\n",
    "    \"\"\"\n",
    "    pdf = pypdf.PdfReader(path)\n",
    "    meta = pdf.metadata    \n",
    "\n",
    "    with app.app_context():\n",
    "        # Create a new article object\n",
    "        article = Article(\n",
    "            path=str(path),\n",
    "            summary=summary,\n",
    "            author = meta.author,\n",
    "            creator = meta.creator,\n",
    "            producer = meta.producer,\n",
    "            subject = meta.subject,\n",
    "            title = meta.title,\n",
    "        )\n",
    "        try:\n",
    "            db.session.add(article)\n",
    "            db.session.commit()\n",
    "        except IntegrityError:\n",
    "            db.session.rollback()\n",
    "            print(f\"An article with this path already exists. ({first_doc})\")"
   ]
  },
  {
   "cell_type": "code",
   "execution_count": null,
   "id": "310a91f7-902c-427f-9abe-6045add938e9",
   "metadata": {
    "tags": []
   },
   "outputs": [],
   "source": [
    "    \n",
    "\n",
    "first_doc, *_ = paths = list(pathlib.Path(\"data\").glob(\"*.pdf\"))\n",
    "index_file = \"faiss-file\"\n",
    "\n",
    "embeddings = OpenAIEmbeddings(\n",
    ")  # type: ignore"
   ]
  },
  {
   "cell_type": "code",
   "execution_count": 3,
   "id": "b6568abe-6985-497a-85bd-720201182160",
   "metadata": {
    "tags": []
   },
   "outputs": [],
   "source": [
    "# create FAISS db\n",
    "#create_index(paths, index_file)"
   ]
  },
  {
   "cell_type": "code",
   "execution_count": null,
   "id": "1e90d5c2-88e2-4906-96f9-96a794a06cbd",
   "metadata": {
    "tags": []
   },
   "outputs": [],
   "source": [
    "doc = process(first_doc)\n",
    "summary = summarize_article(doc)"
   ]
  },
  {
   "cell_type": "code",
   "execution_count": 17,
   "id": "c3bb93e9-8bbc-4386-b5f5-5805794990a4",
   "metadata": {
    "tags": []
   },
   "outputs": [
    {
     "name": "stderr",
     "output_type": "stream",
     "text": [
      " 52%|███████████████████████████████████████████████████████████████████████████▉                                                                     | 11/21 [18:10<14:14, 85.49s/it]"
     ]
    },
    {
     "name": "stdout",
     "output_type": "stream",
     "text": [
      "Summary for data/00614.pdf failed! Skipping...\n"
     ]
    },
    {
     "name": "stderr",
     "output_type": "stream",
     "text": [
      "100%|█████████████████████████████████████████████████████████████████████████████████████████████████████████████████████████████████████████████████| 21/21 [33:11<00:00, 94.82s/it]\n"
     ]
    }
   ],
   "source": [
    "# create sqlite db\n",
    "from tqdm import tqdm\n",
    "\n",
    "\n",
    "\n",
    "for path in tqdm(paths):\n",
    "\n",
    "    with app.app_context():\n",
    "        specific_article = Article.query.filter_by(path=str(path)).first()\n",
    "        if specific_article:\n",
    "            print(f\"{path} already in db. Skipping...\")\n",
    "            continue\n",
    "    \n",
    "\n",
    "    doc = process(path)\n",
    "    try:\n",
    "        summary = summarize_article(doc)\n",
    "    except:\n",
    "        print(f\"Summary for {path} failed! Skipping...\")\n",
    "        continue\n",
    "    add_article_to_sqlite(path, summary)\n"
   ]
  },
  {
   "cell_type": "code",
   "execution_count": 5,
   "id": "63d13f42-9dc0-4a7d-a8e7-b387b827d2a0",
   "metadata": {
    "tags": []
   },
   "outputs": [],
   "source": [
    "titles = {\n",
    "\"6637898\": \"A Short Review on Synthesis, Characterization, and Applications of Zeolites\",\n",
    "\"Pandiangan_2019_J._Phys. _Conf._Ser._1338_012015\":\"Characteristics and catalytic activity of zeolite-a synthesized from rice husk silica and aluminium metal by sol-gel method\",\n",
    "\"FacileandbenignconversionofsucrosetofructoseusingzeoliteswithbalancedBrønstedandLewisacidity\":\"Facile and benign conversion of sucrose to fructose using zeolites with balanced Brønsted and Lewis acidity\",\n",
    "}\n",
    "\n",
    "with app.app_context():\n",
    "    articles = Article.query.all()\n",
    "    \n",
    "    for article in articles:\n",
    "        if article.title is None:\n",
    "            article.title = titles.get(article.location.stem, None)\n",
    "            print(article.title)\n",
    "    \n",
    "    \n",
    "    db.session.commit()"
   ]
  },
  {
   "cell_type": "code",
   "execution_count": 8,
   "id": "76afa6dc-548f-45ff-b1d0-8fc0da766fcf",
   "metadata": {
    "tags": []
   },
   "outputs": [
    {
     "data": {
      "text/plain": [
       "' This article by J.-S. McEwen et al. (2018) examines the use of catalysts to reduce environmental pollution, specifically focusing on the selective catalytic reduction of NOx with NH3 on Cu-SSZ-13 and Cu-SAPO-34 catalysts. It uses X-ray absorption and DFT characterization to study the exchange sites of Cu-SSZ-13, and examines the formation of dynamic multinuclear sites by mobilized copper ions in NOx selective catalytic reduction. Results showed that SO2 poisoning is mainly associated to the chemistry of the Cu sites, and that the framework chemistry of the two Cu-CHA catalysts does not affect SO2 poisoning. Heating the Cu-SAPO-34 catalyst to 700°C was found to restore its activity after SO2 exposure.'"
      ]
     },
     "execution_count": 8,
     "metadata": {},
     "output_type": "execute_result"
    }
   ],
   "source": [
    "with app.app_context():\n",
    "    article, *_ = articles = Article.query.all()\n",
    "\n",
    "article.summary"
   ]
  },
  {
   "cell_type": "code",
   "execution_count": 22,
   "id": "d244067d-9cdc-4655-a6f6-64c9775013ef",
   "metadata": {
    "tags": []
   },
   "outputs": [
    {
     "name": "stdout",
     "output_type": "stream",
     "text": [
      "[]\n",
      "[]\n",
      "[]\n",
      "[]\n",
      "[]\n",
      "[]\n",
      "[]\n"
     ]
    }
   ],
   "source": [
    "pdf = pypdf.PdfReader(\"data/FacileandbenignconversionofsucrosetofructoseusingzeoliteswithbalancedBrønstedandLewisacidity.pdf\")\n",
    "\n",
    "for page in pdf.pages:\n",
    "    print(page.images)"
   ]
  },
  {
   "cell_type": "code",
   "execution_count": 13,
   "id": "d8b82d2d-9b25-4544-b6a1-8cfc06aa9bad",
   "metadata": {
    "tags": []
   },
   "outputs": [],
   "source": []
  },
  {
   "cell_type": "code",
   "execution_count": 10,
   "id": "5950f50e-3393-4976-bd90-a75c32553aea",
   "metadata": {
    "tags": []
   },
   "outputs": [],
   "source": [
    "from langchain.chains.qa_with_sources import load_qa_with_sources_chain\n",
    "from langchain.llms import OpenAI\n",
    "from knowledge_gpt.prompts import STUFF_PROMPT\n",
    "from langchain.vectorstores.faiss import FAISS\n",
    "from knowledge_gpt.embeddings import OpenAIEmbeddings\n",
    "\n",
    "def get_answer(docs, query):\n",
    "    \"\"\"Gets an answer to a question from a list of Documents.\"\"\"\n",
    "    # Get the answer\n",
    "    \n",
    "    if len(docs) == 0:\n",
    "        return {\"output_text\":\"I found no relevant articles for that question...\\nSOURCES:\"}\n",
    "\n",
    "    chain = load_qa_with_sources_chain(\n",
    "        OpenAI(\n",
    "            temperature=0, openai_api_key=os.getenv(\"OPENAI_API_KEY\"),\n",
    "        ),  # type: ignore\n",
    "        chain_type=\"stuff\",\n",
    "        prompt=STUFF_PROMPT,\n",
    "    )\n",
    "\n",
    "    # Cohere doesn't work very well as of now.\n",
    "    # chain = load_qa_with_sources_chain(\n",
    "    #     Cohere(temperature=0), chain_type=\"stuff\", prompt=STUFF_PROMPT  # type: ignore\n",
    "    # )\n",
    "    answer = chain(\n",
    "        {\"input_documents\": docs, \"question\": query}, return_only_outputs=True\n",
    "    )\n",
    "    return answer\n",
    "\n",
    "index_file = \"faiss-file\"\n",
    "embeddings = OpenAIEmbeddings(\n",
    "    openai_api_key=os.getenv(\"OPENAI_API_KEY\"),\n",
    ")  # type: ignore\n",
    "\n",
    "index = FAISS.load_local(index_file, embeddings = embeddings)\n",
    "\n",
    "\n",
    "query = \"what are zeolies?\"\n",
    "\n",
    "docs = index.similarity_search_with_relevance_scores(query, k=15)\n",
    "\n",
    "LOWER_RELEVANCE_BOUND = 0.72\n",
    "docs = [doc for doc, relevance in docs if relevance > LOWER_RELEVANCE_BOUND]\n",
    "\n",
    "answer = get_answer(docs, query)\n",
    "\n",
    "answer_txt, sources_txt = answer[\"output_text\"].split(\"SOURCES\")\n",
    "\n"
   ]
  },
  {
   "cell_type": "code",
   "execution_count": 15,
   "id": "7865a4b6-ea82-4d34-b535-bc232e2b08f8",
   "metadata": {
    "tags": []
   },
   "outputs": [],
   "source": [
    "from langchain.utils import get_from_dict_or_env\n",
    "openai_api_key = get_from_dict_or_env(\n",
    "            {}, \"openai_api_key\", \"OPENAI_API_KEY\"\n",
    "        )"
   ]
  },
  {
   "cell_type": "code",
   "execution_count": 11,
   "id": "e1e75a04-57c1-4e06-ba35-1009fcf3ddd4",
   "metadata": {
    "tags": []
   },
   "outputs": [
    {
     "data": {
      "text/plain": [
       "\" The components of agent-q are crystalline microporous aluminosilicates with favourable physicochemical properties, such as a large surface area, negative charge on the micropores' honeycomb structure, open voids with 3D crystal structures having aluminum, silicon, and oxygen coordination with active metals, and hydrated aluminosilicates made from tetrahedral alumina and silica through interlinkage of oxygen atoms.\\n\""
      ]
     },
     "execution_count": 11,
     "metadata": {},
     "output_type": "execute_result"
    }
   ],
   "source": [
    "answer_txt"
   ]
  },
  {
   "cell_type": "code",
   "execution_count": 24,
   "id": "cdd04a29-33ae-4f7f-9fe0-4b2bf927709d",
   "metadata": {
    "tags": []
   },
   "outputs": [
    {
     "data": {
      "text/plain": [
       "['Cage-basedsmall-porecatalystsforNH3-SCRpreparedbycombiningbulkyorganicstructuredirectingagentswithmodifiedzeolitesasreagents',\n",
       " '6637898',\n",
       " 'molecules-27-08578-v2',\n",
       " 'Pandiangan_2019_J._Phys. _Conf._Ser._1338_012015']"
      ]
     },
     "execution_count": 24,
     "metadata": {},
     "output_type": "execute_result"
    }
   ],
   "source": [
    "partial_paths = list({doc.metadata[\"file\"] for doc in docs})\n",
    "partial_paths\n",
    "\n"
   ]
  },
  {
   "cell_type": "code",
   "execution_count": 25,
   "id": "936f14dd-fc7d-4005-935f-272e7241488b",
   "metadata": {
    "tags": []
   },
   "outputs": [
    {
     "data": {
      "text/plain": [
       "[Article('Cage-based small-pore catalysts for NH3-SCR prepared by combining bulky organic structure directing agents with modified zeolites as reagents', 'data/Cage-basedsmall-porecatalystsforNH3-SCRpreparedbycombiningbulkyorganicstructuredirectingagentswithmodifiedzeolitesasreagents.pdf'),\n",
       " Article('A Short Review on Synthesis, Characterization, and Applications of Zeolites', 'data/6637898.pdf'),\n",
       " Article('Characteristics and catalytic activity of zeolite-a synthesized from rice husk silica and aluminium metal by sol-gel method', 'data/Pandiangan_2019_J._Phys. _Conf._Ser._1338_012015.pdf'),\n",
       " Article('A Comprehensive Review on Zeolite Chemistry for Catalytic Conversion of Biomass/Waste into Green Fuels', 'data/molecules-27-08578-v2.pdf')]"
      ]
     },
     "execution_count": 25,
     "metadata": {},
     "output_type": "execute_result"
    }
   ],
   "source": [
    "from sqlalchemy import or_\n",
    "\n",
    "with app.app_context():\n",
    "    matching_articles = Article.query.filter(or_(Article.path.like('%' + partial_path + '%') for partial_path in partial_paths)).all()\n",
    "\n",
    "matching_articles        "
   ]
  },
  {
   "cell_type": "code",
   "execution_count": 26,
   "id": "a6babf70-5eca-473e-90a7-b144c2322153",
   "metadata": {
    "tags": []
   },
   "outputs": [
    {
     "name": "stdout",
     "output_type": "stream",
     "text": [
      "chunk #0:\n",
      "Zeolites are crystalline micropore  aluminosilicates with favourable physicochemical properties, such as a large surface area  Figure 1. Illustrates the essential components of biomass feedstock [10] (Open Access). Lange et al. (2012) have stated a prominent illustration of xylose to furfural transformation based on the conventional bio-derived procedure. Furfural could be used as a herbicide and lubricant [ 14]. Luo (2020) stated that the biomass pyrolysis process in the presence of a catalyst leads to fast conversion of aromatics compounds toluene, xylenes, benzenes, oleﬁns, etc. [ 15]. During recent decades, catalysis emerged as a technical ﬁeld under guidance of installed fuels and chemical industries\n",
      "\n",
      "chunk #1:\n",
      "ﬀj_hese lead to a number of applications in catalysis, water puriﬁcation, adsorption, and agriculture. 1.Introduction Zeolites are hydrated aluminosilicate that is made from tetrahedral alumina (AlO 45-) and silica (SiO 44-) through interlinkage of oxygen atoms [1, 2]. ﬀj_he term zeolite is derivedfromGreekwords“Zeo”andLithos”[3–5]whichmeansboil andstone,respectively;zeoliteshavehighabilityofabsorbing waterandreleasingitwhen theygetheated[4]. ﬀj_heyhaveanopenvoidwith3Dcrystalstructurehavingaluminum,silicon,and oxygen coordination with active metals [5]\n",
      "\n",
      "chunk #2:\n",
      "Zeolites Role in Environment Protection  Rhodes (2010) stated that zeolites are aluminosilicate solids that possess a negative  charge on the micropores’ honeycomb structur e [113]. This structure adsorbs several molecules to remove environmental contaminants wi th the intent of catalysing chemical reactions. Due to organic solvents’ lesser requirem ent, zeolites are a key part of sustainable  chemistry. For smashing crude petroleum portions into chemical source material and  fuels for commercial operations, proton ion-exchanged zeolites are broadly involved in  the oil industry. Zeolites are worthwhile at the commercial level for water softening by expelling radioactive cations from nuclear decay and eliminating noxious metal cations  from underground and surface water\n",
      "\n",
      "chunk #3:\n",
      "Zeolites Role in Environment Protection Rhodes (2010) stated that zeolites are aluminosilicate solids that possess a negative charge on the micropores’ honeycomb structure [ 113]. This structure adsorbs several molecules to remove environmental contaminants with the intent of catalysing chemical reactions. Due to organic solvents’ lesser requirement, zeolites are a key part of sustainable chemistry. For smashing crude petroleum portions into chemical source material and fuels for commercial operations, proton ion-exchanged zeolites are broadly involved in the oil industry. Zeolites are worthwhile at the commercial level for water softening by expelling radioactive cations from nuclear decay and eliminating noxious metal cations from underground and surface water\n",
      "\n",
      "chunk #4:\n",
      "These zeolites are required for oxygenating (oxygen-containing) compounds’ transformation into hydrocarbons such as oil and modiﬁed methanol to gasoline (MTG) production. The biochemical alteration, particularly the fermentation process, transforms carbohydrates into ethanol. Zeolite catalysis involves transition of biomass, such as lignocelluloses and carbohydrates, into transit fuels and chemicals, respectively. The potent acidity in zeolite residuals plays an integral role in oil betterment automation at a broad spectrum in oil reﬁneries [ 35–43]. The different properties of zeolites contribute signiﬁcantly to conversion of raw materials, including biomass or biomass-derived products. Zeolites have a limited role in the biomass treatment process\n",
      "\n",
      "chunk #5:\n",
      "Zeolite represents very important group of applied materials, due to their unique properties, capable of   playing a variety of important roles such as adsorbents, ion exchangers, and catalysts.  At present, one  of catalytic reaction extens ively investigated is transesterification of glycerides using low molecular  weight alcohols, to convert  the glycerides into their corresponding simpler alkyl esters, known as  biodiesel. In the context of progressive increase of energy demand, biomass deriv ed energy sources or  biofuels, including biodiesel, continue to gain global interest [ 1-2]\n",
      "\n",
      "chunk #6:\n",
      "ﬀj_henegativechargeandtheporesofzeolitescan be occupied by group IA or IIA metal ions and watermolecule as it is denoted via the general formula, Mx/n{(Al 2O)x(SiO2)y.zH2O} [10–12], where Mrepresents an alkalioralkalineEarthcation, nrepresentsthevalenceofthe cation,zisthenumberofwatermoleculesperunitcell,and x andyare the total numbers of tetrahedral per a unit cell. Zeolites can be classiﬁed into two broad groups, namely, natural and synthetic zeolites [8, 12, 13]. Natural zeolites aremostly formed from volcanic and sedimentary rocks such aschabazite,clinoptilolite,andmordenite[13].Onthecontrary,syntheticzeolitesarepreparedthroughheatingofChinaclay,feldspar, soda ash, and other sources [13, 14]\n",
      "\n",
      "chunk #7:\n",
      "Zeolites have the potential to be used in this sort of process, and their availability and tunability make them a fascinating prospect to investigate. Several new approaches to selectively producing product line molecules have been discovered in recent years and are currently being studied in great detail. While this is critical for developing renewable bulk chemicals that may be utilised in various applications, it is also essential for reducing the chemical industry’s overall environmental impact. In response to rising demand for fossil fuels, rising manufacturing prices, and growing environmental concerns, valorisation of cheap, widely accessible, and renewable biomass waste is highly beneﬁcial for industrial applications using zeolite-based catalysis\n",
      "\n",
      "chunk #8:\n",
      "Furthermore,  the  catalytic  performance  of  the  prepared  Cu-  and  Fe-containing AFX catalysts,  both  before  and  after  ageing  treatment,  approaches  the  catalytic  activity  of  Cu-  and  Fe-CHA. © 2017  Elsevier  B.V.  All  rights  reserved. 1. Introduction Zeolites  are  crystalline  microporous  materials  formed  by  interconnected  TO4tetrahedra  (T  =  Si,  Al.  .  .),  having  uniform  pores  and cavities  with  particular  sizes  and  shapes  in  the  molecular  dimension  range  (∼3–15  Å)  [1,2] .  Control  of  the  pore-size  openings  and cavity  dimensions  allows  the  discrimination  between  organic  and inorganic  species  with  geometrical  differences  of  less  than  1  Å  [3]\n",
      "\n",
      "chunk #9:\n",
      "molecules Review A Comprehensive Review on Zeolite Chemistry for Catalytic Conversion of Biomass/Waste into Green Fuels Umair Yaqub Qazi1,* , Rahat Javaid2,* , Amir Ikhlaq3 , Asif Hussain Khoja4 and Faisal Saleem5 1Department of Chemistry, College of Science, University of Hafr Al Batin, P .O. Box 1803, Hafr Al Batin 39524, Saudi Arabia 2Renewable Energy Research Center, Fukushima Renewable Energy Institute, National Institute of Advanced Industrial Science and Technology, AIST, 2-2-9 Machiikedai, Koriyama 963-0298, Fukushima, Japan 3Institute of Environmental Engineering and Research, University of Engineering and Technology, Lahore 54890, Pakistan 4Fossil Fuels Laboratory, Department of Thermal Energy Engineering, U.S\n",
      "\n",
      "chunk #10:\n",
      "Currently, zeolites were synthesized from diﬀerent natural sources,suchasclay,kaolin,ﬂyash,coal,naturaloxide,bauxite,feldspar, activated carbon, and other silica sources [19–21].Zeolites, synthesized from natural sources, have highly porouscavities in their structure, high ionic exchange capacity, largespeciﬁc surface area, low cost, and hydrophilic in nature[3, 18, 22]. For instance, the cost comparison of obtaining a silica and alumina source from a chemical feedstock and kaolin/metakaolinhasbeencarriedout,andtheresultshowsthatzeolite A synthesized from clay has a comparative cost ad-vantage of 15% over a commercial chemical such as sodiumsilicate[1,3,15]\n",
      "\n",
      "chunk #11:\n",
      "ﬀj_he review emphasizes on synthesis, characterization, and application of zeolite. Zeolite is a hydrated aluminosilicate having a tetrahedralstructuralframework;itcontainschannelsandcageswhichareoccupiedbyexchangeableactivemetalionsandwater molecules.Zeolitewassynthesizedthroughdiﬀerentsynthesismethods,particularly,hydrothermalandgreensynthesismethods.ﬀj_hereviewalsohastriedtoaddressthestructureofzeolitesuchasmorphology,functionalgroup,andparticlesizeusingdiﬀerent characterization methods as reported via diﬀerent authors. ﬀj_he characterization results verify that zeolite shows many unique propertiessuchasuniformporesize,acidicproperties,thermalstability,mobileextracation,hydrophilicity,andhydrophobicity\n",
      "\n",
      "chunk #12:\n",
      "Wang and Xiao (2015) stated that zeolites’ potent Lewis and Bronsted acidity has made them efﬁcient in the catalytic output of oil reﬁning, petrochemical, and professional chemical products [ 71]. In addition, attributes such as adsorption capability and quite speciﬁc areas possessed by zeolites permit biomass pyrolysis for catalytic reactions, as stated by Resasco et al. (2016) [ 72]. Ennaert et al. (2016) stated that the hydrophilic and hydrophobic material of zeolites could be replaced, and restrictions on zeolite’s adsorptions features could occur [ 73].\n",
      "\n",
      "chunk #13:\n",
      "Elements constituting oxygenated functionalities, such as hydroxide, carboxylic, and carbonyl groups, are employed for catalysing C–C bond-forming reactions, such as alkylation, ketonisation, and acylation, with the aid of acidic zeolites. In addition, feasible mechanisms of these reactions and the nature of active sites are also being elaborated. Fu et al. (2020) stated that the ZSM-5 zeolites possess a three-dimensional network system of pore size (5.2–5.5 Å) [ 98]. Restriction on adverse and competitive reactions occurs with the aid of ZSM-5 owing to its microporous nature. Zeolites provide a tremendous contribution to reactions, such as alkylation, cyclisation, and aromatisation, as stated by Hu et al. (2020) and Kumar et al. (2020) [ 99,100]. Guefrachi et al\n",
      "\n",
      "chunk #14:\n",
      "Zeolites’ shape and kind of pore size include massive pore-like Y zeolite, Beta zeolite SSZ-55, and medium pore consisting of SSZ-20, ZSM-23, Ferrierite, MCM-22, TNU-9, IM-5, Small pore comprise of SAPO-34, and ZK-5 that were synthesised, labelled, and examined by GC MS combined pyro probe reactor for the formation of aromatic from the glucose molecule [ 59–65]. Figure 3 shows the selected zeolite structures framework assigned with a three-letter code by the International Zeolite Association [ 66]. Cnudda et al. (2020) study has demonstrated that SAPO-34 zeolites synthesis required the utilisation of TEA (Triethylamine), hydrated alumina, water, phosphoric acid, and silica solution for solution progenitors formation [67]\n"
     ]
    }
   ],
   "source": [
    "formatted_chunks = \"\"\"\\n\\n\"\"\".join([f\"chunk #{i}:\\n{doc.page_content}\" for i, doc in enumerate(docs)])\n",
    "\n",
    "print(formatted_chunks)\n",
    "\n",
    "\n"
   ]
  },
  {
   "cell_type": "code",
   "execution_count": 28,
   "id": "1a084563-c0a9-4584-9c23-8ccd2e187070",
   "metadata": {
    "tags": []
   },
   "outputs": [
    {
     "data": {
      "text/plain": [
       "AIMessage(content='Sorry, I cannot provide a relevance score for this statement as it is not a query and there is no document chunk to evaluate. Please provide a query and a document chunk for me to evaluate.', additional_kwargs={}, example=False)"
      ]
     },
     "execution_count": 28,
     "metadata": {},
     "output_type": "execute_result"
    }
   ],
   "source": [
    "\n",
    "\n",
    "\n",
    "chat = ChatOpenAI(\n",
    "    temperature=0,\n",
    "    openai_api_key=OPENAI_KEY,\n",
    ")\n",
    "\n",
    "messages = [\n",
    "    SystemMessage(content=\"\"\"You are a helpful assistant who helps sort document\n",
    "chunks and decide if they are relevant for a specific query. Your output is a\n",
    "relevance score from 0-10 where 0 means not relevant at all and \n",
    "\n",
    "Here are some examples of how you work:\n",
    "\n",
    "QUERY:\n",
    "how large is an elephant\n",
    "\n",
    "chunk #0:\n",
    "Introduction\n",
    "\n",
    "chunk #1:\n",
    "35This set-up allows ultrahigh vacuum (UHV) sample preparation followed by in situ high-pressure,\n",
    "high-temperature gas exposure, during SXRD or grazing-incidence small-angleX-ray scattering (GISAXS)\n",
    "experiments with simultaneous reactivitymeasurements viagas product analysis with a quadrupole mass\n",
    "spectrometer. The Pt(110) sample, which was spark cut and polished to 0.1 1from the (110) plane\n",
    "(Surface Preparation Laboratory), was cleaned by repeated cycles of argon ion bombardment and\n",
    "annealing in UHV, resulting in a (1 /C23) missing-row 36 reconstructed surface, exposing narrow\n",
    "(111) facets. The (1 /C23) structure could be stabilized by carbon segregated from thebulk, 37which\n",
    "was not removed completely during cleaning cycles as the sample was not annealed in oxygen\n",
    "\n",
    "chunk #2:\n",
    "Downloaded from https://academic.oup.com/nsr/article/9/9/nwac045/6545815 by guest on 22 April 2023\n",
    "\n",
    "OUTPUT:\n",
    "\n",
    "    \n",
    "    \"\"\"),\n",
    "    HumanMessage(content=\"I love programming.\")\n",
    "]\n",
    "\n",
    "chat(messages)\n"
   ]
  },
  {
   "cell_type": "code",
   "execution_count": 7,
   "id": "8c6becbc-1f3f-4c16-bb3c-bb9f37060942",
   "metadata": {
    "tags": []
   },
   "outputs": [
    {
     "name": "stdout",
     "output_type": "stream",
     "text": [
      "langchain                0.0.181\n"
     ]
    }
   ],
   "source": [
    "!pip list | grep langchain"
   ]
  },
  {
   "cell_type": "code",
   "execution_count": null,
   "id": "1c61f79d-0a44-4049-aa1f-be91a7ed66e1",
   "metadata": {},
   "outputs": [],
   "source": []
  }
 ],
 "metadata": {
  "kernelspec": {
   "display_name": "Python 3 (ipykernel)",
   "language": "python",
   "name": "python3"
  },
  "language_info": {
   "codemirror_mode": {
    "name": "ipython",
    "version": 3
   },
   "file_extension": ".py",
   "mimetype": "text/x-python",
   "name": "python",
   "nbconvert_exporter": "python",
   "pygments_lexer": "ipython3",
   "version": "3.10.6"
  }
 },
 "nbformat": 4,
 "nbformat_minor": 5
}
